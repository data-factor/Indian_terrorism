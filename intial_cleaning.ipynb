{
 "cells": [
  {
   "cell_type": "code",
   "execution_count": null,
   "metadata": {},
   "outputs": [],
   "source": [
    "import pandas as pd"
   ]
  },
  {
   "cell_type": "markdown",
   "metadata": {},
   "source": [
    "Cleaning process and considering only the required columns and loading data from two seperate files."
   ]
  },
  {
   "cell_type": "code",
   "execution_count": null,
   "metadata": {},
   "outputs": [],
   "source": [
    "fileds = ['eventid','iyear','imonth','iday','resolution','country','country_txt','region','region_txt','provstate','city','latitude','longitude',\n",
    "          'summary','multiple','success','suicide','attacktype1','attacktype1_txt','targtype1','targtype1_txt',\n",
    "          'targsubtype1','targsubtype1_txt','target1','gname','motive','weaptype1','weaptype1_txt','nkill','nwound','propvalue',\n",
    "          'addnotes']\n",
    "df1 = pd.read_csv('data_source/global_data_terrorism.csv',engine='c',encoding='latin-1',low_memory=False,usecols=fileds)\n",
    "df2 = pd.read_csv('data_source/global_data_terrorism_2021.csv',engine='c',encoding='latin-1',low_memory=False,usecols=fileds)"
   ]
  },
  {
   "cell_type": "code",
   "execution_count": null,
   "metadata": {},
   "outputs": [],
   "source": [
    "# drop caloumns that are not required\n",
    "print(df1.columns)"
   ]
  },
  {
   "cell_type": "code",
   "execution_count": null,
   "metadata": {},
   "outputs": [],
   "source": [
    "print(df2.columns.values)"
   ]
  },
  {
   "cell_type": "markdown",
   "metadata": {},
   "source": [
    "Combining two data frames where each file1 contains data from 1970 to 2020 and the file2 contains data of the year 2021"
   ]
  },
  {
   "cell_type": "code",
   "execution_count": null,
   "metadata": {},
   "outputs": [],
   "source": [
    "data = [df1,df2]\n",
    "df = pd.concat(data)\n",
    "df = df.set_index(['eventid'])\n",
    "df"
   ]
  },
  {
   "cell_type": "markdown",
   "metadata": {},
   "source": [
    "Data processing and **standardization**"
   ]
  },
  {
   "cell_type": "code",
   "execution_count": null,
   "metadata": {},
   "outputs": [],
   "source": [
    "# Renaming the columns for better understanding\n",
    "new_column_name = {\n",
    "    'id': 'id',\n",
    "    'iyear':    'year',\n",
    "    'imonth':   'month',\n",
    "    'iday':     'day',\n",
    "    'resolution': 'resolutions',\n",
    "    'country':     'country_id' ,\n",
    "    'country_txt':      'country',\n",
    "    'region':       'region_id',\n",
    "    'region_txt':   'region',\n",
    "    'provstate':    'state',\n",
    "    'city':         'City',\n",
    "    'latitude': 'latitude',\n",
    "    'longitude': 'longitude',\n",
    "    'summary':    'Attack_summary',\n",
    "    'multiple':    'multiple_incident',\n",
    "    'success':      'Success',\n",
    "    'suicide':      'suicide_bomber',\n",
    "    'attacktype1':  'attacktype_id',\n",
    "    'attacktype1_txt':  'attack',\n",
    "    'targtype1': 'target_id',\n",
    "    'targtype1_txt': 'target_type',\n",
    "    'targsubtype1': 'sub_target_type_id',\n",
    "    'targsubtype1_txt': 'sub_target_type',\n",
    "    'target1':  'target',\n",
    "    'gname':    'terrorist_organization',\n",
    "    'motive': 'motivation',\n",
    "    'weaptype1': 'weapon_id',\n",
    "    'weaptype1_txt': 'weapon',\n",
    "    'nkill': 'death_toll',\n",
    "    'nwound': 'wounded_toll',\n",
    "    'propvalue': 'damage_cost',\n",
    "    'addnotes': 'notes'\n",
    "    \n",
    "}\n",
    "df.rename(columns=new_column_name)"
   ]
  },
  {
   "cell_type": "code",
   "execution_count": null,
   "metadata": {},
   "outputs": [],
   "source": []
  },
  {
   "cell_type": "code",
   "execution_count": null,
   "metadata": {},
   "outputs": [],
   "source": []
  },
  {
   "cell_type": "code",
   "execution_count": null,
   "metadata": {},
   "outputs": [],
   "source": []
  }
 ],
 "metadata": {
  "kernelspec": {
   "display_name": "Python 3 (ipykernel)",
   "language": "python",
   "name": "python3"
  }
 },
 "nbformat": 4,
 "nbformat_minor": 2
}
